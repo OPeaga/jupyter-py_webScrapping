,nome,points,ranking,details
0,Jaime Soares Canuto,1053.0,1,https://ibjjf.com/athletes/jaime-canuto
1,Gilvan Gomes da Costa,1022.0,2,https://ibjjf.com/athletes/gilvan-costa
2,João Ricardo Bordignon Miyao,951,3,https://ibjjf.com/athletes/joao-miyao
3,Sergio Raimundo Rios da Silva,892.0,4,https://ibjjf.com/athletes/sergio-silva-ce42b6ee718a
4,Marcio Antonio Pires Junior,781.0,5,https://ibjjf.com/athletes/marcio-junior-c6a61f4a8090
5,Marlon Barbosa de Godoy,517.5,6,https://ibjjf.com/athletes/marlon-godoy
6,Guilherme Wilson dos S. Cordiviola,510.0,7,https://ibjjf.com/athletes/guilherme-cordiviola
7,Michael Remigio Liera Jr.,486.0,8,https://ibjjf.com/athletes/michael-jr-012863019d60
8,Gustavo Mascarenhas Borges,465.0,9,https://ibjjf.com/athletes/gustavo-borges-f3daa36b2bde
9,Felipe Linhares Arruda,463.5,10,https://ibjjf.com/athletes/felipe-arruda
10,Arnaldo Maidana de Oliveira,399.0,11,https://ibjjf.com/athletes/arnaldo-oliveira
11,Gabriel Procópio da Fonseca,394.5,12,https://ibjjf.com/athletes/gabriel-fonseca
12,Gabriel Marangoni de Oliveira,393.0,13,https://ibjjf.com/athletes/gabriel-oliveira-baffc0854399
13,Max Santos Gimenis,391.5,14,https://ibjjf.com/athletes/max-gimenis
14,Jhonny Loureiro Sigallis Souza,388.5,15,https://ibjjf.com/athletes/jhonny-souza
15,Nathan J. dos Santos,385.5,16,https://ibjjf.com/athletes/nathan-santos
16,Diego Dias Ramalho,380.0,17,https://ibjjf.com/athletes/diego-ramalho
17,Marcus Vinicius Gabriel Oliveira,353.0,18,https://ibjjf.com/athletes/marcus-oliveira-ab58ae84956f
18,Thiago Rodrigues Lemos,340.0,19,https://ibjjf.com/athletes/thiago-lemos
19,Wilson Bueno de Moraes Júnior,336.5,20,https://ibjjf.com/athletes/wilson-junior-a05416fe264c
20,Frederico Pinto Cesar de Almeida,320.5,21,https://ibjjf.com/athletes/frederico-almeida
21,Henrique Russi Felix de Lima,318.5,22,https://ibjjf.com/athletes/henrique-lima-5a4f5c4ef7f7
22,Felipe Augusto Farias Bezerra,306.0,23,https://ibjjf.com/athletes/felipe-bezerra
23,Fernando Vieira Bonfante,288.0,24,https://ibjjf.com/athletes/fernando-bonfante
24,Rafael Lovato Jr.,273.0,25,https://ibjjf.com/athletes/rafael-jr
25,Ermilio Lucas Ferreira Lima,271.0,26,https://ibjjf.com/athletes/ermilio-lima
26,Matheus Godoy Romero,256.5,27,https://ibjjf.com/athletes/matheus-romero
27,Matheus Barreto Valentim,249,28,https://ibjjf.com/athletes/matheus-valentim
28,Vinicius Carvalho Garcia,247.0,29,https://ibjjf.com/athletes/vinicius-garcia
29,André Barbosa da Silva Moura,246,30,https://ibjjf.com/athletes/andre-moura-4a792fd5674f
30,Igor Matosinho de Paiva,244.5,31,https://ibjjf.com/athletes/igor-paiva
31,Edson Vitor Corte da Silva,239.5,32,https://ibjjf.com/athletes/edson-silva-5b6c049e357c
32,Caio Gregorio Cipriano,234.5,33,https://ibjjf.com/athletes/caio-cipriano
33,Jackson Sousa dos Santos,232.5,34,https://ibjjf.com/athletes/jackson-santos
34,Israel Vieira Motta,229.5,35,https://ibjjf.com/athletes/israel-motta
35,Dylan C. Whyte,228.0,36,https://ibjjf.com/athletes/dylan-whyte
36,José Tiago da Silva Barros,225,37,https://ibjjf.com/athletes/jose-barros
37,Wellington Ribeiro de Lima,222,38,https://ibjjf.com/athletes/wellington-lima
38,Reda Hamzaoui,220.0,39,https://ibjjf.com/athletes/reda-hamzaoui
39,Diogo Silveira do Nascimento,218.5,40,https://ibjjf.com/athletes/diogo-nascimento
40,Diego Santana do Espírito Santo,218.5,40,https://ibjjf.com/athletes/diego-santo
41,Romes Pereira Ramos Junior,213.0,42,https://ibjjf.com/athletes/romes-junior
42,Emerson Cassio Monteiro Da Silva,204,43,https://ibjjf.com/athletes/emerson-silva-8582a02637ad
43,Pedro Henrique Monteiro Palhares,204,43,https://ibjjf.com/athletes/pedro-palhares
44,Esdras Félix Bezerra Júnior,202.5,45,https://ibjjf.com/athletes/esdras-junior
45,Klidson Farias de Abreu,201,46,https://ibjjf.com/athletes/klidson-abreu
46,Matheus Felipe da Silva Xavier,198.0,47,https://ibjjf.com/athletes/matheus-xavier
47,Ygor Machado Dantas,197,48,https://ibjjf.com/athletes/ygor-dantas
48,Chaise Olimpio Ivo C. Albuquerque,196.0,49,https://ibjjf.com/athletes/chaise
49,Amadu Martins Jorge,193.5,50,https://ibjjf.com/athletes/amadu-jorge
50,Gabriel Salles Muniz Almeida,193.5,50,https://ibjjf.com/athletes/gabriel-almeida
51,Lucas de Araujo Gomes,192.5,52,https://ibjjf.com/athletes/lucas-gomes
52,Silvio Duran de Barros Saraiva,191.5,53,https://ibjjf.com/athletes/silvio-saraiva
53,Hiago George Santos Silva,189,54,https://ibjjf.com/athletes/hiago-silva
54,Manuel Ribamar V. de Oliveira Filho,189,54,https://ibjjf.com/athletes/manuel-filho
55,Cícero Lívio Ribeiro S. Paiva,189,54,https://ibjjf.com/athletes/cicero-paiva
56,Lucas Laet Mattos Moutinho,184.5,57,https://ibjjf.com/athletes/lucas-moutinho
57,Guilherme Bacha Guedes,184.5,57,https://ibjjf.com/athletes/guilherme-guedes
58,Pedro Fernandes Farias,183,59,https://ibjjf.com/athletes/pedro-farias
59,Thiago Ferreira Alves Gontijo,183.0,59,https://ibjjf.com/athletes/thiago-gontijo
60,Lucas Hilario dos Santos,183.0,59,https://ibjjf.com/athletes/lucas-santos
61,João Humberto Alves Ribeiro,177.0,62,https://ibjjf.com/athletes/joao-ribeiro-3be16bb6d88d
62,Alexandre da Silva Ribeiro,175.5,63,https://ibjjf.com/athletes/alexandre-ribeiro-250a1e384722
63,Dylan Lee Royce,172.5,64,https://ibjjf.com/athletes/dylan-royce
64,Chairo Olimpio Ivo Cavalcante Albuquerque,171.5,65,https://ibjjf.com/athletes/chairo-albuquerque
65,Mani Tavanaei Tavanaei,171,66,https://ibjjf.com/athletes/mani-tavanaei
66,Jose Joaquin Valenzuela Torres,167.5,67,https://ibjjf.com/athletes/jose-torres-ee5792afc480
67,Lucas de Menezes C. Bernardes,166.0,68,https://ibjjf.com/athletes/lucas-bernardes-4f93c20a83b1
68,Kim Ramires Ellwanger,162.0,69,https://ibjjf.com/athletes/kim-ellwanger
69,Gabriel Bosquê Neto,162,69,https://ibjjf.com/athletes/gabriel-neto
70,Guilherme Ferrarrezi Botrel,162.0,69,https://ibjjf.com/athletes/guilherme-botrel
71,Bruno André Duarte Borges,160.5,72,https://ibjjf.com/athletes/bruno-borges
72,Leonardo Pires Nogueira,157.5,73,https://ibjjf.com/athletes/leonardo-nogueira
73,Flávio Junqueira,154.5,74,https://ibjjf.com/athletes/flavio-junqueira
74,Daniel Sena Paulino,150.5,75,https://ibjjf.com/athletes/daniel-paulino
75,Raphael da Costa Cadena,148,76,https://ibjjf.com/athletes/raphael-cadena
76,Cauê Oliveira Rodrigues,147.5,77,https://ibjjf.com/athletes/caue-rodrigues
77,Filipe Ramos Ciabotti,146.0,78,https://ibjjf.com/athletes/filipe-ciabotti
78,Rafael de Oliveira Colonhese,144,79,https://ibjjf.com/athletes/rafael-colonhese
79,Eliel Gomes da Silva,139.5,80,https://ibjjf.com/athletes/eliel-silva
80,Fernando Borges de Matos,139.5,80,https://ibjjf.com/athletes/fernando-matos
81,Fernando Paulino Nascimento Rocha,138.0,82,https://ibjjf.com/athletes/fernando-rocha
82,Nicolas Ignacio Ponce Gallegos,137,83,https://ibjjf.com/athletes/nicolas-gallegos
83,Christopher William Hargett,136.5,84,https://ibjjf.com/athletes/christopher-hargett
84,Hygor Donati Beck,135.5,85,https://ibjjf.com/athletes/hygor-beck
85,Erikson Rafael Tavares Takeushi,135.0,86,https://ibjjf.com/athletes/erikson-takeushi
86,Gledson Lopes da Silva,135.0,86,https://ibjjf.com/athletes/gledson-silva
87,João Pedro Oliveira Rodrigues,135,86,https://ibjjf.com/athletes/joao-rodrigues-aaa3701ae50b
88,Rodrigo Lamounier de Freitas,135,86,https://ibjjf.com/athletes/rodrigo-freitas
89,Lucas Costa Barros,134,90,https://ibjjf.com/athletes/lucas-barros
90,Eldar Rafigaev,132.5,91,https://ibjjf.com/athletes/eldar-rafigaev
91,Eduardo Barboza da Silva,132,92,https://ibjjf.com/athletes/eduardo-silva-7c8b1eb758ed
92,Willian Salvino de Sousa,130,93,https://ibjjf.com/athletes/willian-sousa
93,Anselmo dos Santos Gomes,129.5,94,https://ibjjf.com/athletes/anselmo-gomes
94,Andre Gomes Reis,127.0,95,https://ibjjf.com/athletes/andre-reis
95,Andrey Lisboa Caldas,127,95,https://ibjjf.com/athletes/andrey-caldas
96,Osamah Ali Ali Almarwai,126,97,https://ibjjf.com/athletes/osamah-almarwai
97,Hebert Penido das Dores Junior,126.0,97,https://ibjjf.com/athletes/hebert-junior
98,Gilson Nunes  De Oliveira Neto,126,97,https://ibjjf.com/athletes/gilson-neto
99,Ives Emmanoel Oliveira Sacramento,124.5,100,https://ibjjf.com/athletes/ives-sacramento
100,Denis Felipe Fumagali da Silva,124.5,100,https://ibjjf.com/athletes/denis-silva-6f9f0d0bf1b5
101,Ronnie Trey Louis Pace III,124.5,100,https://ibjjf.com/athletes/ronnie-iii
102,Jackson Paim da Silva,124.5,100,https://ibjjf.com/athletes/jackson-silva-b668bceee1f7
103,Gialysson Adão Silva Freitas,124.0,104,https://ibjjf.com/athletes/gialysson-freitas
104,Paulo Henrique Bordignon Miyao,120,105,https://ibjjf.com/athletes/paulo-miyao
105,Vitor Peres Paschoal,120,105,https://ibjjf.com/athletes/vitor-paschoal
106,Kenji Benjamin Sette,120,105,https://ibjjf.com/athletes/kenji-sette
107,Matheus Linhares Knorr,119.0,108,https://ibjjf.com/athletes/matheus-knorr
108,Bryn Meirion Jenkins,114,109,https://ibjjf.com/athletes/bryn-jenkins
109,Jan Andreas Basso,112,110,https://ibjjf.com/athletes/jan-basso
